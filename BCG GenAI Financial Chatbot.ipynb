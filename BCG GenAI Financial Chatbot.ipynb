{
 "cells": [
  {
   "cell_type": "code",
   "execution_count": 32,
   "id": "69354799-3859-453c-8564-0e52ccad24ed",
   "metadata": {},
   "outputs": [
    {
     "name": "stdout",
     "output_type": "stream",
     "text": [
      "Requirement already satisfied: pandas in c:\\users\\ankic\\appdata\\local\\programs\\python\\python313\\lib\\site-packages (2.2.3)\n",
      "Requirement already satisfied: openpyxl in c:\\users\\ankic\\appdata\\local\\programs\\python\\python313\\lib\\site-packages (3.1.5)\n",
      "Requirement already satisfied: numpy>=1.26.0 in c:\\users\\ankic\\appdata\\local\\programs\\python\\python313\\lib\\site-packages (from pandas) (2.2.0)\n",
      "Requirement already satisfied: python-dateutil>=2.8.2 in c:\\users\\ankic\\appdata\\roaming\\python\\python313\\site-packages (from pandas) (2.9.0.post0)\n",
      "Requirement already satisfied: pytz>=2020.1 in c:\\users\\ankic\\appdata\\local\\programs\\python\\python313\\lib\\site-packages (from pandas) (2024.2)\n",
      "Requirement already satisfied: tzdata>=2022.7 in c:\\users\\ankic\\appdata\\local\\programs\\python\\python313\\lib\\site-packages (from pandas) (2024.2)\n",
      "Requirement already satisfied: et-xmlfile in c:\\users\\ankic\\appdata\\local\\programs\\python\\python313\\lib\\site-packages (from openpyxl) (2.0.0)\n",
      "Requirement already satisfied: six>=1.5 in c:\\users\\ankic\\appdata\\roaming\\python\\python313\\site-packages (from python-dateutil>=2.8.2->pandas) (1.17.0)\n",
      "Note: you may need to restart the kernel to use updated packages.\n"
     ]
    }
   ],
   "source": [
    "pip install pandas openpyxl\n"
   ]
  },
  {
   "cell_type": "code",
   "execution_count": 33,
   "id": "dccc2ef3-0754-42c5-9475-f1585c774827",
   "metadata": {},
   "outputs": [],
   "source": [
    "import pandas as pd"
   ]
  },
  {
   "cell_type": "code",
   "execution_count": 34,
   "id": "70c16af2-3ed9-4793-bd5f-f06e45fc515a",
   "metadata": {},
   "outputs": [
    {
     "name": "stderr",
     "output_type": "stream",
     "text": [
      "<>:1: SyntaxWarning: invalid escape sequence '\\E'\n",
      "<>:1: SyntaxWarning: invalid escape sequence '\\E'\n",
      "C:\\Users\\ankic\\AppData\\Local\\Temp\\ipykernel_7540\\1645069223.py:1: SyntaxWarning: invalid escape sequence '\\E'\n",
      "  df= pd.read_excel(\"K:\\Excel\\BCG Task 1.xlsx\")\n"
     ]
    }
   ],
   "source": [
    "df= pd.read_excel(\"K:\\Excel\\BCG Task 1.xlsx\")"
   ]
  },
  {
   "cell_type": "code",
   "execution_count": 35,
   "id": "342060b3-ed72-4b3f-b9bc-14a72a64165a",
   "metadata": {},
   "outputs": [
    {
     "name": "stdout",
     "output_type": "stream",
     "text": [
      "     Company  Total Revenue  Net Income  Total Assets  Total Liability  \\\n",
      "0  Microsoft         168088       61271           NaN              NaN   \n",
      "1  Microsoft         198270       72738      364840.0         198298.0   \n",
      "2  Microsoft         211915       72361      411976.0         205753.0   \n",
      "3      Apple         365817       94680           NaN              NaN   \n",
      "4      Apple         394328       99803      352755.0         302083.0   \n",
      "\n",
      "   Cash Flow From Operations  Year  \n",
      "0                      76740  2021  \n",
      "1                      89035  2022  \n",
      "2                      87582  2023  \n",
      "3                     104038  2021  \n",
      "4                     122151  2022  \n"
     ]
    }
   ],
   "source": [
    "print(df.head())"
   ]
  },
  {
   "cell_type": "code",
   "execution_count": 36,
   "id": "a40e2a33-01b3-4467-bd31-1a41f90aa088",
   "metadata": {},
   "outputs": [],
   "source": [
    "df['Revenue Growth (%)'] = df.groupby(['Company'])['Total Revenue'].pct_change() * 100\n",
    "df['Net Income Growth (%)'] = df.groupby(['Company'])['Net Income'].pct_change() * 100"
   ]
  },
  {
   "cell_type": "code",
   "execution_count": 37,
   "id": "504b6184-6422-426e-b16b-351423f79119",
   "metadata": {},
   "outputs": [
    {
     "name": "stdout",
     "output_type": "stream",
     "text": [
      "     Company  Total Revenue  Net Income  Total Assets  Total Liability  \\\n",
      "0  Microsoft         168088       61271           NaN              NaN   \n",
      "1  Microsoft         198270       72738      364840.0         198298.0   \n",
      "2  Microsoft         211915       72361      411976.0         205753.0   \n",
      "3      Apple         365817       94680           NaN              NaN   \n",
      "4      Apple         394328       99803      352755.0         302083.0   \n",
      "\n",
      "   Cash Flow From Operations  Year  Revenue Growth (%)  Net Income Growth (%)  \n",
      "0                      76740  2021                 NaN                    NaN  \n",
      "1                      89035  2022           17.956071              18.715216  \n",
      "2                      87582  2023            6.882030              -0.518299  \n",
      "3                     104038  2021                 NaN                    NaN  \n",
      "4                     122151  2022            7.793788               5.410858  \n"
     ]
    }
   ],
   "source": [
    "print(df.head())"
   ]
  },
  {
   "cell_type": "code",
   "execution_count": 38,
   "id": "e1cf0c63-c89d-458d-b641-843f83083a1c",
   "metadata": {},
   "outputs": [],
   "source": [
    "def simple_chatbot(user_query):\n",
    "    \"\"\"\n",
    "    A simple chatbot that dynamically responds to queries based on the dataset.\n",
    "\n",
    "    Args:\n",
    "        user_query (str): The user's question.\n",
    "\n",
    "    Returns:\n",
    "        str: The chatbot's response.\n",
    "    \"\"\"\n",
    "    if \"total revenue\" in user_query.lower():\n",
    "        # Extract company and year from the query\n",
    "        for company in df['Company'].unique():\n",
    "            if company.lower() in user_query.lower():\n",
    "                try:\n",
    "                    year = int([word for word in user_query.split() if word.isdigit()][0])\n",
    "                    revenue = df.loc[(df['Company'] == company) & (df['Year'] == year), 'Total Revenue']\n",
    "                    if not revenue.empty:\n",
    "                        return f\"The total revenue for {company} in {year} is {revenue.values[0]:,}.\"\n",
    "                    else:\n",
    "                        return f\"Sorry, I couldn't find the total revenue for {company} in {year}.\"\n",
    "                except IndexError:\n",
    "                    return \"Please specify a year in your query.\"\n",
    "\n",
    "    elif \"net income\" in user_query.lower():\n",
    "        for company in df['Company'].unique():\n",
    "            if company.lower() in user_query.lower():\n",
    "                try:\n",
    "                    year = int([word for word in user_query.split() if word.isdigit()][0])\n",
    "                    net_income = df.loc[(df['Company'] == company) & (df['Year'] == year), 'Net Income']\n",
    "                    if not net_income.empty:\n",
    "                        return f\"The net income for {company} in {year} is {net_income.values[0]:,}.\"\n",
    "                    else:\n",
    "                        return f\"Sorry, I couldn't find the net income for {company} in {year}.\"\n",
    "                except IndexError:\n",
    "                    return \"Please specify a year in your query.\"\n",
    "\n",
    "    elif \"total assets\" in user_query.lower():\n",
    "        for company in df['Company'].unique():\n",
    "            if company.lower() in user_query.lower():\n",
    "                try:\n",
    "                    year = int([word for word in user_query.split() if word.isdigit()][0])\n",
    "                    assets = df.loc[(df['Company'] == company) & (df['Year'] == year), 'Total Assets']\n",
    "                    if not assets.empty:\n",
    "                        return f\"The total assets for {company} in {year} are {assets.values[0]:,}.\"\n",
    "                    else:\n",
    "                        return f\"Sorry, I couldn't find the total assets for {company} in {year}.\"\n",
    "                except IndexError:\n",
    "                    return \"Please specify a year in your query.\"\n",
    "\n",
    "    elif \"liability\" in user_query.lower():\n",
    "        for company in df['Company'].unique():\n",
    "            if company.lower() in user_query.lower():\n",
    "                try:\n",
    "                    year = int([word for word in user_query.split() if word.isdigit()][0])\n",
    "                    liability = df.loc[(df['Company'] == company) & (df['Year'] == year), 'Total Liability']\n",
    "                    if not liability.empty:\n",
    "                        return f\"The total liability for {company} in {year} is {liability.values[0]:,}.\"\n",
    "                    else:\n",
    "                        return f\"Sorry, I couldn't find the total liability for {company} in {year}.\"\n",
    "                except IndexError:\n",
    "                    return \"Please specify a year in your query.\"\n",
    "\n",
    "    elif \"cash flow\" in user_query.lower():\n",
    "        for company in df['Company'].unique():\n",
    "            if company.lower() in user_query.lower():\n",
    "                try:\n",
    "                    year = int([word for word in user_query.split() if word.isdigit()][0])\n",
    "                    cash_flow = df.loc[(df['Company'] == company) & (df['Year'] == year), 'Cash Flow From Operations']\n",
    "                    if not cash_flow.empty:\n",
    "                        return f\"The cash flow from operations for {company} in {year} is {cash_flow.values[0]:,}.\"\n",
    "                    else:\n",
    "                        return f\"Sorry, I couldn't find the cash flow from operations for {company} in {year}.\"\n",
    "                except IndexError:\n",
    "                    return \"Please specify a year in your query.\"\n",
    "\n",
    "    return \"Sorry, I can only provide information on predefined queries based on the dataset.\"\n"
   ]
  },
  {
   "cell_type": "code",
   "execution_count": 39,
   "id": "3a05bc18-350b-4029-96f3-a85a72367438",
   "metadata": {},
   "outputs": [
    {
     "name": "stdout",
     "output_type": "stream",
     "text": [
      "The total revenue for Microsoft in 2021 is 168,088.\n",
      "The total revenue for Apple in 2022 is 394,328.\n",
      "The total revenue for Tesla in 2023 is 96,773.\n"
     ]
    }
   ],
   "source": [
    "print(simple_chatbot(\"Total revenue for microsoft in 2021\"))\n",
    "print(simple_chatbot(\"Total revenue for apple in 2022\"))\n",
    "print(simple_chatbot(\"Total revenue for tesla in 2023\"))"
   ]
  },
  {
   "cell_type": "code",
   "execution_count": 40,
   "id": "df7907e6-d2c3-49e6-9ebf-9b1c24bde7a9",
   "metadata": {},
   "outputs": [
    {
     "name": "stdout",
     "output_type": "stream",
     "text": [
      "Sorry, I couldn't find the total revenue for Tesla in 2024.\n"
     ]
    }
   ],
   "source": [
    "print(simple_chatbot(\"Total revenue for tesla in 2024\"))"
   ]
  },
  {
   "cell_type": "code",
   "execution_count": null,
   "id": "d0d2c5df-7b5f-403f-9c03-480d411d3c0b",
   "metadata": {},
   "outputs": [],
   "source": []
  }
 ],
 "metadata": {
  "kernelspec": {
   "display_name": "Python 3 (ipykernel)",
   "language": "python",
   "name": "python3"
  },
  "language_info": {
   "codemirror_mode": {
    "name": "ipython",
    "version": 3
   },
   "file_extension": ".py",
   "mimetype": "text/x-python",
   "name": "python",
   "nbconvert_exporter": "python",
   "pygments_lexer": "ipython3",
   "version": "3.13.0"
  }
 },
 "nbformat": 4,
 "nbformat_minor": 5
}
